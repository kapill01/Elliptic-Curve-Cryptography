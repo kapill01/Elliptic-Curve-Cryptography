{
  "cells": [
    {
      "cell_type": "code",
      "execution_count": null,
      "id": "bRklFM_jaBjc",
      "metadata": {
        "colab": {
          "background_save": true,
          "base_uri": "https://localhost:8080/",
          "height": 373
        },
        "id": "bRklFM_jaBjc",
        "outputId": "3aeaebd1-34cc-4814-ccaa-d73a81199cf0"
      },
      "outputs": [
        {
          "name": "stdout",
          "output_type": "stream",
          "text": [
            "Basepoint:\t (55066263022277343669578718895168534326250603453777594175500187360389116729240, 32670510020758816978083085130507043184471273380659243275938904335757337482424)\n",
            "Alice's secret key:\t 103163957511965503687409664299982520879488610620759255833559644727832895156238\n",
            "Alice's public key:\t (5257818465961244799758083809767335623379701928485252643447610405837719172250, 86264882505114570302929747416728210100420107485849011942341808218573351387139)\n",
            "Bob's secret key:\t 43850246553352343151917562499257200915853558051177502689315691959741704572887\n",
            "Bob's public key:\t (46167490462098588135040808535352842622484892248816923211081209916414104350167, 107964918931759882976318183194514771602128202346317292403000033649399275225525)\n",
            "Alice's shared key:\t (82042917435183972918038248049741832565175958477289260772975848088818576369895, 42379319143013012389613827177121537789856780201453135900441102186604579659919)\n",
            "Bob's shared key:\t (82042917435183972918038248049741832565175958477289260772975848088818576369895, 42379319143013012389613827177121537789856780201453135900441102186604579659919)\n",
            "The shared value is the x-value: \t 82042917435183972918038248049741832565175958477289260772975848088818576369895\n"
          ]
        }
      ],
      "source": [
        "import collections\n",
        "import random\n",
        "\n",
        "\n",
        "EllipticCurve = collections.namedtuple('EllipticCurve', 'name p a b g n h')\n",
        "\n",
        "curve = EllipticCurve(\n",
        "    'secp256k1',\n",
        "    # Field characteristic.\n",
        "    p=0xfffffffffffffffffffffffffffffffffffffffffffffffffffffffefffffc2f,\n",
        "    # Curve coefficients.\n",
        "    a=0,\n",
        "    b=7,\n",
        "    # Base point.\n",
        "    g=(0x79be667ef9dcbbac55a06295ce870b07029bfcdb2dce28d959f2815b16f81798,\n",
        "       0x483ada7726a3c4655da4fbfc0e1108a8fd17b448a68554199c47d08ffb10d4b8),\n",
        "    # Subgroup order.\n",
        "    n=0xfffffffffffffffffffffffffffffffebaaedce6af48a03bbfd25e8cd0364141,\n",
        "    # Subgroup cofactor.\n",
        "    h=1,\n",
        ")\n",
        "\n",
        "# Modular arithmetic ##########################################################\n",
        "\n",
        "\n",
        "def inverse_mod(k, p):\n",
        "    \"\"\"Returns the inverse of k modulo p.\n",
        "    This function returns the only integer x such that (x * k) % p == 1.\n",
        "    k must be non-zero and p must be a prime.\n",
        "    \"\"\"\n",
        "    if k == 0:\n",
        "        raise ZeroDivisionError('division by zero')\n",
        "\n",
        "    if k < 0:\n",
        "        # k ** -1 = p - (-k) ** -1  (mod p)\n",
        "        return p - inverse_mod(-k, p)\n",
        "\n",
        "    # Extended Euclidean algorithm.\n",
        "    s, old_s = 0, 1\n",
        "    t, old_t = 1, 0\n",
        "    r, old_r = p, k\n",
        "\n",
        "    while r != 0:\n",
        "        quotient = old_r // r\n",
        "        old_r, r = r, old_r - quotient * r\n",
        "        old_s, s = s, old_s - quotient * s\n",
        "        old_t, t = t, old_t - quotient * t\n",
        "\n",
        "    gcd, x, y = old_r, old_s, old_t\n",
        "\n",
        "    assert gcd == 1\n",
        "    assert (k * x) % p == 1\n",
        "\n",
        "    return x % p\n",
        "\n",
        "\n",
        "# Functions that work on curve points #########################################\n",
        "\n",
        "\n",
        "def is_on_curve1(point):\n",
        "    \"\"\"Returns True if the given point lies on the elliptic curve.\"\"\"\n",
        "    if point is None:\n",
        "        # None represents the point at infinity.\n",
        "        return True\n",
        "\n",
        "    x, y = point\n",
        "\n",
        "    return (y * y - x * x * x - curve.a * x - curve.b) % curve.p == 0\n",
        "\n",
        "\n",
        "def point_add(point1, point2):\n",
        "    \"\"\"Returns the result of point1 + point2 according to the group law.\"\"\"\n",
        "    assert is_on_curve1(point1)\n",
        "    assert is_on_curve1(point2)\n",
        "\n",
        "    if point1 is None:\n",
        "        # 0 + point2 = point2\n",
        "        return point2\n",
        "    if point2 is None:\n",
        "        # point1 + 0 = point1\n",
        "        return point1\n",
        "\n",
        "    x1, y1 = point1\n",
        "    x2, y2 = point2\n",
        "\n",
        "    if x1 == x2 and y1 != y2:\n",
        "        # point1 + (-point1) = 0\n",
        "        return None\n",
        "\n",
        "    if x1 == x2:\n",
        "        # This is the case point1 == point2.\n",
        "        m = (3 * x1 * x1 + curve.a) * inverse_mod(2 * y1, curve.p)\n",
        "    else:\n",
        "        # This is the case point1 != point2.\n",
        "        m = (y1 - y2) * inverse_mod(x1 - x2, curve.p)\n",
        "\n",
        "    x3 = m * m - x1 - x2\n",
        "    y3 = y1 + m * (x3 - x1)\n",
        "    result = (x3 % curve.p, -y3 % curve.p)\n",
        "\n",
        "    assert is_on_curve1(result)\n",
        "\n",
        "    return result\n",
        "\n",
        "\n",
        "def scalar_mult(k, point):\n",
        "    \"\"\"Returns k * point computed using the double and point_add algorithm.\"\"\"\n",
        "    assert is_on_curve1(point)\n",
        "\n",
        "    if k % curve.n == 0 or point is None:\n",
        "        return None\n",
        "\n",
        "    if k < 0:\n",
        "        # k * point = -k * (-point)\n",
        "        return scalar_mult(-k, point_neg(point))\n",
        "\n",
        "    result = None\n",
        "    addend = point\n",
        "\n",
        "    while k:\n",
        "        if k & 1:\n",
        "            # Add.\n",
        "            result = point_add(result, addend)\n",
        "\n",
        "        # Double.\n",
        "        addend = point_add(addend, addend)\n",
        "\n",
        "        k >>= 1\n",
        "\n",
        "    assert is_on_curve1(result)\n",
        "\n",
        "    return result\n",
        "\n",
        "\n",
        "# Keypair generation\n",
        "\n",
        "def make_keypair():\n",
        "    \"\"\"Generates a random private-public key pair.\"\"\"\n",
        "    private_key = random.randrange(1, curve.n)\n",
        "    public_key = scalar_mult(private_key, curve.g)\n",
        "    return private_key, public_key\n",
        "print(\"Basepoint:\\t\", curve.g)\n",
        "\n",
        "aliceSecretKey, alicePublicKey = make_keypair()\n",
        "bobSecretKey, bobPublicKey = make_keypair()\n",
        "\n",
        "print(\"Alice\\'s secret key:\\t\", aliceSecretKey)\n",
        "print(\"Alice\\'s public key:\\t\", alicePublicKey)\n",
        "print(\"Bob\\'s secret key:\\t\", bobSecretKey)\n",
        "print(\"Bob\\'s public key:\\t\", bobPublicKey)\n",
        "sharedSecret1 = scalar_mult(bobSecretKey, alicePublicKey)\n",
        "sharedSecret2 = scalar_mult(aliceSecretKey, bobPublicKey)\n",
        "print(\"Alice\\'s shared key:\\t\", sharedSecret1)\n",
        "print(\"Bob\\'s shared key:\\t\", sharedSecret2)\n",
        "print(\"The shared value is the x-value: \\t\", (sharedSecret1[0]))"
      ]
    },
    {
      "cell_type": "code",
      "execution_count": null,
      "id": "cc3577f6",
      "metadata": {
        "id": "cc3577f6"
      },
      "outputs": [],
      "source": [
        "def add_points(P,Q,p):\n",
        "    x1,y1=P\n",
        "    x2,y2=Q\n",
        "    if x1==x2 and y1==y2 :\n",
        "        beta=(3*x1*x2+a)*pow(2*y1,-1,p)\n",
        "    else:\n",
        "        beta=(y2-y1)*pow(x2-x1,-1,p)\n",
        "\n",
        "    x3=(beta*beta-x1-x2)%p\n",
        "    y3=(beta*(x1-x3)-y1)%p\n",
        "\n",
        "    is_on_curve((x3,y3),p)\n",
        "    return x3,y3\n",
        "\n",
        "def is_on_curve(P,p):\n",
        "    x,y=P\n",
        "    assert (y*y)%p==( pow(x, 3, p) + a*x + b )% p\n",
        "\n",
        "def apply_double_and_add_method(G, k, p) :\n",
        "    target_point = G\n",
        "    k_binary=bin(k)[2:]\n",
        "    for i in range(1, len(k_binary) ) :\n",
        "        current_bit = k_binary [i: i+1]\n",
        "        # doubling — always\n",
        "        target_point = add_points(target_point, target_point, p)\n",
        "\n",
        "        if current_bit==\"1\":\n",
        "            target_point = add_points (target_point, G, p)\n",
        "    is_on_curve(target_point,p)\n",
        "\n",
        "    return  target_point"
      ]
    },
    {
      "cell_type": "code",
      "execution_count": null,
      "id": "fe628482",
      "metadata": {
        "id": "fe628482"
      },
      "outputs": [],
      "source": [
        "a=0;b=7\n",
        "G=(55066263022277343669578718895168534326250603453777594175500187360389116729240,32670510020758816978083085130507043184471273380659243275938904335757337482424)\n",
        "#finite field\n",
        "p = pow(2, 256) - pow(2, 32) - pow(2, 9) - pow(2, 8) - pow(2, 7) - pow(2, 6) - pow(2, 4) - pow(2, 0)\n",
        "n = 115792089237316195423570985008687907852837564279074904382605163141518161494337"
      ]
    },
    {
      "cell_type": "code",
      "execution_count": null,
      "id": "462bceaa",
      "metadata": {
        "colab": {
          "base_uri": "https://localhost:8080/",
          "height": 141
        },
        "id": "462bceaa",
        "outputId": "f80a539a-1c10-4527-9e09-510e4279e4a3"
      },
      "outputs": [
        {
          "ename": "TypeError",
          "evalue": "is_on_curve() takes 1 positional argument but 2 were given",
          "output_type": "error",
          "traceback": [
            "\u001b[0;31m---------------------------------------------------------------------------\u001b[0m",
            "\u001b[0;31mTypeError\u001b[0m                                 Traceback (most recent call last)",
            "\u001b[0;32m<ipython-input-17-37429ed0a2af>\u001b[0m in \u001b[0;36m<cell line: 1>\u001b[0;34m()\u001b[0m\n\u001b[0;32m----> 1\u001b[0;31m \u001b[0mis_on_curve\u001b[0m\u001b[0;34m(\u001b[0m\u001b[0mG\u001b[0m\u001b[0;34m,\u001b[0m\u001b[0mp\u001b[0m\u001b[0;34m)\u001b[0m\u001b[0;34m\u001b[0m\u001b[0;34m\u001b[0m\u001b[0m\n\u001b[0m",
            "\u001b[0;31mTypeError\u001b[0m: is_on_curve() takes 1 positional argument but 2 were given"
          ]
        }
      ],
      "source": [
        "is_on_curve(G,p)"
      ]
    },
    {
      "cell_type": "code",
      "execution_count": null,
      "id": "f5dcf6ee",
      "metadata": {
        "colab": {
          "base_uri": "https://localhost:8080/",
          "height": 332
        },
        "id": "f5dcf6ee",
        "outputId": "ed6aae8e-7d15-43ee-f9ce-97d2dc2ade2f"
      },
      "outputs": [
        {
          "ename": "TypeError",
          "evalue": "is_on_curve() takes 1 positional argument but 2 were given",
          "output_type": "error",
          "traceback": [
            "\u001b[0;31m---------------------------------------------------------------------------\u001b[0m",
            "\u001b[0;31mTypeError\u001b[0m                                 Traceback (most recent call last)",
            "\u001b[0;32m<ipython-input-15-1af9d0d85a12>\u001b[0m in \u001b[0;36m<cell line: 3>\u001b[0;34m()\u001b[0m\n\u001b[1;32m      2\u001b[0m \u001b[0mtmp_point\u001b[0m \u001b[0;34m=\u001b[0m \u001b[0mG\u001b[0m\u001b[0;34m\u001b[0m\u001b[0;34m\u001b[0m\u001b[0m\n\u001b[1;32m      3\u001b[0m \u001b[0;32mfor\u001b[0m \u001b[0mi\u001b[0m \u001b[0;32min\u001b[0m \u001b[0mrange\u001b[0m\u001b[0;34m(\u001b[0m\u001b[0;36m2\u001b[0m\u001b[0;34m,\u001b[0m \u001b[0;36m21\u001b[0m\u001b[0;34m)\u001b[0m\u001b[0;34m:\u001b[0m\u001b[0;34m\u001b[0m\u001b[0;34m\u001b[0m\u001b[0m\n\u001b[0;32m----> 4\u001b[0;31m     \u001b[0mtmp_point\u001b[0m\u001b[0;34m=\u001b[0m \u001b[0madd_points\u001b[0m \u001b[0;34m(\u001b[0m \u001b[0mtmp_point\u001b[0m\u001b[0;34m,\u001b[0m\u001b[0mG\u001b[0m\u001b[0;34m,\u001b[0m\u001b[0mp\u001b[0m\u001b[0;34m)\u001b[0m\u001b[0;34m\u001b[0m\u001b[0;34m\u001b[0m\u001b[0m\n\u001b[0m\u001b[1;32m      5\u001b[0m     \u001b[0mprint\u001b[0m \u001b[0;34m(\u001b[0m\u001b[0;34mf\"{i}G ={ tmp_point}\"\u001b[0m\u001b[0;34m)\u001b[0m\u001b[0;34m\u001b[0m\u001b[0;34m\u001b[0m\u001b[0m\n\u001b[1;32m      6\u001b[0m \u001b[0;34m\u001b[0m\u001b[0m\n",
            "\u001b[0;32m<ipython-input-2-8a896f4a9457>\u001b[0m in \u001b[0;36madd_points\u001b[0;34m(P, Q, p)\u001b[0m\n\u001b[1;32m     10\u001b[0m     \u001b[0my3\u001b[0m\u001b[0;34m=\u001b[0m\u001b[0;34m(\u001b[0m\u001b[0mbeta\u001b[0m\u001b[0;34m*\u001b[0m\u001b[0;34m(\u001b[0m\u001b[0mx1\u001b[0m\u001b[0;34m-\u001b[0m\u001b[0mx3\u001b[0m\u001b[0;34m)\u001b[0m\u001b[0;34m-\u001b[0m\u001b[0my1\u001b[0m\u001b[0;34m)\u001b[0m\u001b[0;34m%\u001b[0m\u001b[0mp\u001b[0m\u001b[0;34m\u001b[0m\u001b[0;34m\u001b[0m\u001b[0m\n\u001b[1;32m     11\u001b[0m \u001b[0;34m\u001b[0m\u001b[0m\n\u001b[0;32m---> 12\u001b[0;31m     \u001b[0mis_on_curve\u001b[0m\u001b[0;34m(\u001b[0m\u001b[0;34m(\u001b[0m\u001b[0mx3\u001b[0m\u001b[0;34m,\u001b[0m\u001b[0my3\u001b[0m\u001b[0;34m)\u001b[0m\u001b[0;34m,\u001b[0m\u001b[0mp\u001b[0m\u001b[0;34m)\u001b[0m\u001b[0;34m\u001b[0m\u001b[0;34m\u001b[0m\u001b[0m\n\u001b[0m\u001b[1;32m     13\u001b[0m     \u001b[0;32mreturn\u001b[0m \u001b[0mx3\u001b[0m\u001b[0;34m,\u001b[0m\u001b[0my3\u001b[0m\u001b[0;34m\u001b[0m\u001b[0;34m\u001b[0m\u001b[0m\n\u001b[1;32m     14\u001b[0m \u001b[0;34m\u001b[0m\u001b[0m\n",
            "\u001b[0;31mTypeError\u001b[0m: is_on_curve() takes 1 positional argument but 2 were given"
          ]
        }
      ],
      "source": [
        "#point_2G=add_points(G,G,p)\n",
        "tmp_point = G\n",
        "for i in range(2, 21):\n",
        "    tmp_point= add_points ( tmp_point,G,p)\n",
        "    print (f\"{i}G ={ tmp_point}\")\n",
        "\n"
      ]
    },
    {
      "cell_type": "code",
      "execution_count": null,
      "id": "1c801070",
      "metadata": {
        "colab": {
          "base_uri": "https://localhost:8080/",
          "height": 287
        },
        "id": "1c801070",
        "outputId": "acef5a59-8341-41e1-8c72-42040437c07a"
      },
      "outputs": [
        {
          "ename": "TypeError",
          "evalue": "is_on_curve() takes 1 positional argument but 2 were given",
          "output_type": "error",
          "traceback": [
            "\u001b[0;31m---------------------------------------------------------------------------\u001b[0m",
            "\u001b[0;31mTypeError\u001b[0m                                 Traceback (most recent call last)",
            "\u001b[0;32m<ipython-input-14-bf3ea954174a>\u001b[0m in \u001b[0;36m<cell line: 1>\u001b[0;34m()\u001b[0m\n\u001b[0;32m----> 1\u001b[0;31m \u001b[0mapply_double_and_add_method\u001b[0m\u001b[0;34m(\u001b[0m\u001b[0mG\u001b[0m\u001b[0;34m=\u001b[0m\u001b[0mG\u001b[0m\u001b[0;34m,\u001b[0m\u001b[0mk\u001b[0m\u001b[0;34m=\u001b[0m\u001b[0;36m20\u001b[0m\u001b[0;34m,\u001b[0m\u001b[0mp\u001b[0m\u001b[0;34m=\u001b[0m\u001b[0mp\u001b[0m\u001b[0;34m)\u001b[0m\u001b[0;34m\u001b[0m\u001b[0;34m\u001b[0m\u001b[0m\n\u001b[0m",
            "\u001b[0;32m<ipython-input-2-8a896f4a9457>\u001b[0m in \u001b[0;36mapply_double_and_add_method\u001b[0;34m(G, k, p)\u001b[0m\n\u001b[1;32m     23\u001b[0m         \u001b[0mcurrent_bit\u001b[0m \u001b[0;34m=\u001b[0m \u001b[0mk_binary\u001b[0m \u001b[0;34m[\u001b[0m\u001b[0mi\u001b[0m\u001b[0;34m:\u001b[0m \u001b[0mi\u001b[0m\u001b[0;34m+\u001b[0m\u001b[0;36m1\u001b[0m\u001b[0;34m]\u001b[0m\u001b[0;34m\u001b[0m\u001b[0;34m\u001b[0m\u001b[0m\n\u001b[1;32m     24\u001b[0m         \u001b[0;31m# doubling — always\u001b[0m\u001b[0;34m\u001b[0m\u001b[0;34m\u001b[0m\u001b[0m\n\u001b[0;32m---> 25\u001b[0;31m         \u001b[0mtarget_point\u001b[0m \u001b[0;34m=\u001b[0m \u001b[0madd_points\u001b[0m\u001b[0;34m(\u001b[0m\u001b[0mtarget_point\u001b[0m\u001b[0;34m,\u001b[0m \u001b[0mtarget_point\u001b[0m\u001b[0;34m,\u001b[0m \u001b[0mp\u001b[0m\u001b[0;34m)\u001b[0m\u001b[0;34m\u001b[0m\u001b[0;34m\u001b[0m\u001b[0m\n\u001b[0m\u001b[1;32m     26\u001b[0m \u001b[0;34m\u001b[0m\u001b[0m\n\u001b[1;32m     27\u001b[0m         \u001b[0;32mif\u001b[0m \u001b[0mcurrent_bit\u001b[0m\u001b[0;34m==\u001b[0m\u001b[0;34m\"1\"\u001b[0m\u001b[0;34m:\u001b[0m\u001b[0;34m\u001b[0m\u001b[0;34m\u001b[0m\u001b[0m\n",
            "\u001b[0;32m<ipython-input-2-8a896f4a9457>\u001b[0m in \u001b[0;36madd_points\u001b[0;34m(P, Q, p)\u001b[0m\n\u001b[1;32m     10\u001b[0m     \u001b[0my3\u001b[0m\u001b[0;34m=\u001b[0m\u001b[0;34m(\u001b[0m\u001b[0mbeta\u001b[0m\u001b[0;34m*\u001b[0m\u001b[0;34m(\u001b[0m\u001b[0mx1\u001b[0m\u001b[0;34m-\u001b[0m\u001b[0mx3\u001b[0m\u001b[0;34m)\u001b[0m\u001b[0;34m-\u001b[0m\u001b[0my1\u001b[0m\u001b[0;34m)\u001b[0m\u001b[0;34m%\u001b[0m\u001b[0mp\u001b[0m\u001b[0;34m\u001b[0m\u001b[0;34m\u001b[0m\u001b[0m\n\u001b[1;32m     11\u001b[0m \u001b[0;34m\u001b[0m\u001b[0m\n\u001b[0;32m---> 12\u001b[0;31m     \u001b[0mis_on_curve\u001b[0m\u001b[0;34m(\u001b[0m\u001b[0;34m(\u001b[0m\u001b[0mx3\u001b[0m\u001b[0;34m,\u001b[0m\u001b[0my3\u001b[0m\u001b[0;34m)\u001b[0m\u001b[0;34m,\u001b[0m\u001b[0mp\u001b[0m\u001b[0;34m)\u001b[0m\u001b[0;34m\u001b[0m\u001b[0;34m\u001b[0m\u001b[0m\n\u001b[0m\u001b[1;32m     13\u001b[0m     \u001b[0;32mreturn\u001b[0m \u001b[0mx3\u001b[0m\u001b[0;34m,\u001b[0m\u001b[0my3\u001b[0m\u001b[0;34m\u001b[0m\u001b[0;34m\u001b[0m\u001b[0m\n\u001b[1;32m     14\u001b[0m \u001b[0;34m\u001b[0m\u001b[0m\n",
            "\u001b[0;31mTypeError\u001b[0m: is_on_curve() takes 1 positional argument but 2 were given"
          ]
        }
      ],
      "source": [
        "apply_double_and_add_method(G=G,k=20,p=p)"
      ]
    },
    {
      "cell_type": "markdown",
      "id": "YJdT-aI-dR7S",
      "metadata": {
        "id": "YJdT-aI-dR7S"
      },
      "source": []
    },
    {
      "cell_type": "code",
      "execution_count": null,
      "id": "615057c7",
      "metadata": {
        "colab": {
          "base_uri": "https://localhost:8080/",
          "height": 141
        },
        "id": "615057c7",
        "outputId": "70a138c1-3c58-42b2-a65b-7fa445d7bc32"
      },
      "outputs": [
        {
          "ename": "TypeError",
          "evalue": "is_on_curve() takes 1 positional argument but 2 were given",
          "output_type": "error",
          "traceback": [
            "\u001b[0;31m---------------------------------------------------------------------------\u001b[0m",
            "\u001b[0;31mTypeError\u001b[0m                                 Traceback (most recent call last)",
            "\u001b[0;32m<ipython-input-13-37429ed0a2af>\u001b[0m in \u001b[0;36m<cell line: 1>\u001b[0;34m()\u001b[0m\n\u001b[0;32m----> 1\u001b[0;31m \u001b[0mis_on_curve\u001b[0m\u001b[0;34m(\u001b[0m\u001b[0mG\u001b[0m\u001b[0;34m,\u001b[0m\u001b[0mp\u001b[0m\u001b[0;34m)\u001b[0m\u001b[0;34m\u001b[0m\u001b[0;34m\u001b[0m\u001b[0m\n\u001b[0m",
            "\u001b[0;31mTypeError\u001b[0m: is_on_curve() takes 1 positional argument but 2 were given"
          ]
        }
      ],
      "source": [
        "is_on_curve(G,p)"
      ]
    },
    {
      "cell_type": "code",
      "execution_count": null,
      "id": "a4f9d254",
      "metadata": {
        "colab": {
          "base_uri": "https://localhost:8080/",
          "height": 356
        },
        "id": "a4f9d254",
        "outputId": "b3c89754-ec94-4176-a5a8-175632c7630f"
      },
      "outputs": [
        {
          "ename": "TypeError",
          "evalue": "is_on_curve() takes 1 positional argument but 2 were given",
          "output_type": "error",
          "traceback": [
            "\u001b[0;31m---------------------------------------------------------------------------\u001b[0m",
            "\u001b[0;31mTypeError\u001b[0m                                 Traceback (most recent call last)",
            "\u001b[0;32m<ipython-input-12-3e07deb49635>\u001b[0m in \u001b[0;36m<cell line: 3>\u001b[0;34m()\u001b[0m\n\u001b[1;32m      1\u001b[0m \u001b[0;31m# alice\u001b[0m\u001b[0;34m\u001b[0m\u001b[0;34m\u001b[0m\u001b[0m\n\u001b[1;32m      2\u001b[0m \u001b[0mka\u001b[0m \u001b[0;34m=\u001b[0m \u001b[0maliceSecretKey\u001b[0m\u001b[0;34m\u001b[0m\u001b[0;34m\u001b[0m\u001b[0m\n\u001b[0;32m----> 3\u001b[0;31m \u001b[0mQa\u001b[0m \u001b[0;34m=\u001b[0m \u001b[0mapply_double_and_add_method\u001b[0m\u001b[0;34m(\u001b[0m\u001b[0mG\u001b[0m \u001b[0;34m=\u001b[0m \u001b[0mG\u001b[0m\u001b[0;34m,\u001b[0m \u001b[0mk\u001b[0m \u001b[0;34m=\u001b[0m \u001b[0mka\u001b[0m\u001b[0;34m,\u001b[0m\u001b[0mp\u001b[0m\u001b[0;34m=\u001b[0m \u001b[0mp\u001b[0m\u001b[0;34m)\u001b[0m\u001b[0;34m\u001b[0m\u001b[0;34m\u001b[0m\u001b[0m\n\u001b[0m\u001b[1;32m      4\u001b[0m \u001b[0;31m# bob\u001b[0m\u001b[0;34m\u001b[0m\u001b[0;34m\u001b[0m\u001b[0m\n\u001b[1;32m      5\u001b[0m \u001b[0mm\u001b[0m\u001b[0;34m=\u001b[0m \u001b[0;36m43424217\u001b[0m\u001b[0;34m\u001b[0m\u001b[0;34m\u001b[0m\u001b[0m\n",
            "\u001b[0;32m<ipython-input-2-8a896f4a9457>\u001b[0m in \u001b[0;36mapply_double_and_add_method\u001b[0;34m(G, k, p)\u001b[0m\n\u001b[1;32m     23\u001b[0m         \u001b[0mcurrent_bit\u001b[0m \u001b[0;34m=\u001b[0m \u001b[0mk_binary\u001b[0m \u001b[0;34m[\u001b[0m\u001b[0mi\u001b[0m\u001b[0;34m:\u001b[0m \u001b[0mi\u001b[0m\u001b[0;34m+\u001b[0m\u001b[0;36m1\u001b[0m\u001b[0;34m]\u001b[0m\u001b[0;34m\u001b[0m\u001b[0;34m\u001b[0m\u001b[0m\n\u001b[1;32m     24\u001b[0m         \u001b[0;31m# doubling — always\u001b[0m\u001b[0;34m\u001b[0m\u001b[0;34m\u001b[0m\u001b[0m\n\u001b[0;32m---> 25\u001b[0;31m         \u001b[0mtarget_point\u001b[0m \u001b[0;34m=\u001b[0m \u001b[0madd_points\u001b[0m\u001b[0;34m(\u001b[0m\u001b[0mtarget_point\u001b[0m\u001b[0;34m,\u001b[0m \u001b[0mtarget_point\u001b[0m\u001b[0;34m,\u001b[0m \u001b[0mp\u001b[0m\u001b[0;34m)\u001b[0m\u001b[0;34m\u001b[0m\u001b[0;34m\u001b[0m\u001b[0m\n\u001b[0m\u001b[1;32m     26\u001b[0m \u001b[0;34m\u001b[0m\u001b[0m\n\u001b[1;32m     27\u001b[0m         \u001b[0;32mif\u001b[0m \u001b[0mcurrent_bit\u001b[0m\u001b[0;34m==\u001b[0m\u001b[0;34m\"1\"\u001b[0m\u001b[0;34m:\u001b[0m\u001b[0;34m\u001b[0m\u001b[0;34m\u001b[0m\u001b[0m\n",
            "\u001b[0;32m<ipython-input-2-8a896f4a9457>\u001b[0m in \u001b[0;36madd_points\u001b[0;34m(P, Q, p)\u001b[0m\n\u001b[1;32m     10\u001b[0m     \u001b[0my3\u001b[0m\u001b[0;34m=\u001b[0m\u001b[0;34m(\u001b[0m\u001b[0mbeta\u001b[0m\u001b[0;34m*\u001b[0m\u001b[0;34m(\u001b[0m\u001b[0mx1\u001b[0m\u001b[0;34m-\u001b[0m\u001b[0mx3\u001b[0m\u001b[0;34m)\u001b[0m\u001b[0;34m-\u001b[0m\u001b[0my1\u001b[0m\u001b[0;34m)\u001b[0m\u001b[0;34m%\u001b[0m\u001b[0mp\u001b[0m\u001b[0;34m\u001b[0m\u001b[0;34m\u001b[0m\u001b[0m\n\u001b[1;32m     11\u001b[0m \u001b[0;34m\u001b[0m\u001b[0m\n\u001b[0;32m---> 12\u001b[0;31m     \u001b[0mis_on_curve\u001b[0m\u001b[0;34m(\u001b[0m\u001b[0;34m(\u001b[0m\u001b[0mx3\u001b[0m\u001b[0;34m,\u001b[0m\u001b[0my3\u001b[0m\u001b[0;34m)\u001b[0m\u001b[0;34m,\u001b[0m\u001b[0mp\u001b[0m\u001b[0;34m)\u001b[0m\u001b[0;34m\u001b[0m\u001b[0;34m\u001b[0m\u001b[0m\n\u001b[0m\u001b[1;32m     13\u001b[0m     \u001b[0;32mreturn\u001b[0m \u001b[0mx3\u001b[0m\u001b[0;34m,\u001b[0m\u001b[0my3\u001b[0m\u001b[0;34m\u001b[0m\u001b[0;34m\u001b[0m\u001b[0m\n\u001b[1;32m     14\u001b[0m \u001b[0;34m\u001b[0m\u001b[0m\n",
            "\u001b[0;31mTypeError\u001b[0m: is_on_curve() takes 1 positional argument but 2 were given"
          ]
        }
      ],
      "source": [
        "# alice\n",
        "ka = aliceSecretKey\n",
        "Qa = apply_double_and_add_method(G = G, k = ka,p= p)\n",
        "# bob\n",
        "m= 43424217\n",
        "\n",
        "s = apply_double_and_add_method(G = G, k =m,p= p)\n",
        "\n",
        "r = random.getrandbits(128)\n",
        "c1 = apply_double_and_add_method(G = G, k =r,p= p)\n",
        "\n",
        "c2= apply_double_and_add_method(G = Qa, k = r, p=p)\n",
        "c2 = add_points(c2, s, p)\n",
        "(c1,c2)\n",
        "# s_prime = c2 — ka x c1\n",
        "# s_prime = c2 + ( ka x —c1)\n",
        "c1_prime = (c1[0], (-1*c1[1]) %p)\n",
        "\n",
        "s_prime=apply_double_and_add_method(G=c1_prime,k=ka,p=p)\n",
        "s_prime=add_points(P=c2,Q=s_prime,p=p)\n",
        "s_prime\n",
        "s"
      ]
    },
    {
      "cell_type": "code",
      "execution_count": null,
      "id": "3b9a4a62",
      "metadata": {
        "id": "3b9a4a62"
      },
      "outputs": [],
      "source": [
        "# s_prime = c2 — ka x c1\n",
        "# s_prime = c2 + ( ka x —c1)# bob\n",
        "m= 43424217\n",
        "\n",
        "s = apply_double_and_add_method(G = G, k =m,p= p)\n",
        "\n",
        "r = random.getrandbits(128)\n",
        "c1 = apply_double_and_add_method(G = G, k =r,p= p)\n",
        "\n",
        "c2= apply_double_and_add_method(G = Qa, k = r, p=p)\n",
        "c2 = add_points(c2, s, p)"
      ]
    },
    {
      "cell_type": "code",
      "execution_count": null,
      "id": "3bcf3dc2",
      "metadata": {
        "colab": {
          "base_uri": "https://localhost:8080/"
        },
        "id": "3bcf3dc2",
        "outputId": "143fc264-01da-431b-8283-c56327e24809"
      },
      "outputs": [
        {
          "data": {
            "text/plain": [
              "((23725333115428360688015298090970188190606353582556142028646884238399621259408,\n",
              "  89567990616352906010840154564832653935216699011689374436766828202779474316392),\n",
              " (47477410512958114111889091417057196908327728674125014915307428435671331366014,\n",
              "  92811820448017974089686691029581902148739026870251962074423989532970549114596))"
            ]
          },
          "execution_count": 10,
          "metadata": {},
          "output_type": "execute_result"
        }
      ],
      "source": [
        "(c1,c2)"
      ]
    },
    {
      "cell_type": "code",
      "execution_count": null,
      "id": "8a1ee071",
      "metadata": {
        "id": "8a1ee071"
      },
      "outputs": [],
      "source": [
        "c1_prime = (c1[0], (-1*c1[1]) %p)"
      ]
    },
    {
      "cell_type": "code",
      "execution_count": null,
      "id": "d0510817",
      "metadata": {
        "id": "d0510817"
      },
      "outputs": [],
      "source": [
        "s_prime=apply_double_and_add_method(G=c1_prime,k=ka,p=p)\n",
        "s_prime=add_points(P=c2,Q=s_prime,p=p)"
      ]
    },
    {
      "cell_type": "code",
      "execution_count": null,
      "id": "0e3e7403",
      "metadata": {
        "colab": {
          "base_uri": "https://localhost:8080/"
        },
        "id": "0e3e7403",
        "outputId": "c26b4009-3bed-4f64-ab92-7d730f00bc8f"
      },
      "outputs": [
        {
          "data": {
            "text/plain": [
              "(61923371908307645681599963956552275781958346742043893176124343276692223439156,\n",
              " 96861786012748632420154169891607477506648868670246826739860922798413865027620)"
            ]
          },
          "execution_count": 88,
          "metadata": {},
          "output_type": "execute_result"
        }
      ],
      "source": [
        "s_prime"
      ]
    },
    {
      "cell_type": "code",
      "execution_count": null,
      "id": "c2baa2fc",
      "metadata": {
        "colab": {
          "base_uri": "https://localhost:8080/"
        },
        "id": "c2baa2fc",
        "outputId": "8571a393-01e0-4242-e858-d544bc9ecfd9"
      },
      "outputs": [
        {
          "data": {
            "text/plain": [
              "(61923371908307645681599963956552275781958346742043893176124343276692223439156,\n",
              " 96861786012748632420154169891607477506648868670246826739860922798413865027620)"
            ]
          },
          "execution_count": 87,
          "metadata": {},
          "output_type": "execute_result"
        }
      ],
      "source": [
        "s"
      ]
    },
    {
      "cell_type": "code",
      "execution_count": null,
      "id": "01a8d6c8",
      "metadata": {
        "id": "01a8d6c8"
      },
      "outputs": [],
      "source": []
    }
  ],
  "metadata": {
    "colab": {
      "provenance": []
    },
    "kernelspec": {
      "display_name": "Python 3 (ipykernel)",
      "language": "python",
      "name": "python3"
    },
    "language_info": {
      "codemirror_mode": {
        "name": "ipython",
        "version": 3
      },
      "file_extension": ".py",
      "mimetype": "text/x-python",
      "name": "python",
      "nbconvert_exporter": "python",
      "pygments_lexer": "ipython3",
      "version": "3.11.5"
    }
  },
  "nbformat": 4,
  "nbformat_minor": 5
}